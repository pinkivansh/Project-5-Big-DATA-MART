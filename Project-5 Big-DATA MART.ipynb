{
 "cells": [
  {
   "cell_type": "markdown",
   "id": "202ee82e",
   "metadata": {},
   "source": [
    "# Step 1 Import necessary libraries    "
   ]
  },
  {
   "cell_type": "code",
   "execution_count": null,
   "id": "bad6379a",
   "metadata": {},
   "outputs": [],
   "source": [
    "import pandas as pd\n",
    "import numpy as np\n",
    "import matplotlib.pyplot as plt\n",
    "import seaborn as sns\n",
    "%matplotlib inline\n",
    "import warnings\n",
    "warnings.filterwarnings('ignore')"
   ]
  },
  {
   "cell_type": "markdown",
   "id": "58fe2377",
   "metadata": {},
   "source": [
    "# Step 2 DataSet Load"
   ]
  },
  {
   "cell_type": "code",
   "execution_count": null,
   "id": "77451b18",
   "metadata": {},
   "outputs": [],
   "source": [
    "BM_train = pd.read_csv('bigdatamart_Train.csv')"
   ]
  },
  {
   "cell_type": "code",
   "execution_count": null,
   "id": "f5177f1f",
   "metadata": {},
   "outputs": [],
   "source": [
    "BM_test =  pd.read_csv('bigdatamart_Test.csv')"
   ]
  },
  {
   "cell_type": "code",
   "execution_count": null,
   "id": "580701a9",
   "metadata": {},
   "outputs": [],
   "source": [
    "BM_train"
   ]
  },
  {
   "cell_type": "code",
   "execution_count": null,
   "id": "af887521",
   "metadata": {},
   "outputs": [],
   "source": [
    "BM_test"
   ]
  },
  {
   "cell_type": "markdown",
   "id": "4dae49cc",
   "metadata": {},
   "source": [
    "# Step 3 Null value check with sum"
   ]
  },
  {
   "cell_type": "code",
   "execution_count": null,
   "id": "4d29a544",
   "metadata": {},
   "outputs": [],
   "source": [
    "BM_train.isnull().sum()"
   ]
  },
  {
   "cell_type": "code",
   "execution_count": null,
   "id": "e292910a",
   "metadata": {},
   "outputs": [],
   "source": [
    "BM_train.shape"
   ]
  },
  {
   "cell_type": "markdown",
   "id": "ad51764a",
   "metadata": {},
   "source": [
    "'Item Weight' has 17.16% null values\n",
    "\n",
    "'Outlet_Size' has 28.27% null values"
   ]
  },
  {
   "cell_type": "code",
   "execution_count": null,
   "id": "3af05853",
   "metadata": {},
   "outputs": [],
   "source": [
    "BM_test.isnull().sum()"
   ]
  },
  {
   "cell_type": "code",
   "execution_count": null,
   "id": "3796f5e5",
   "metadata": {},
   "outputs": [],
   "source": [
    "BM_test.shape"
   ]
  },
  {
   "cell_type": "markdown",
   "id": "9b6a1e6a",
   "metadata": {},
   "source": [
    "'Item Weight' has 17.18% null values\n",
    "\n",
    "'Outlet_Size' has 28.26% null values\n",
    "\n",
    "\n",
    "\n",
    "# Step 4 Zero Values check in dataset"
   ]
  },
  {
   "cell_type": "code",
   "execution_count": null,
   "id": "9dcc710c",
   "metadata": {},
   "outputs": [],
   "source": [
    "(BM_train==0).sum()"
   ]
  },
  {
   "cell_type": "markdown",
   "id": "f9628aa0",
   "metadata": {},
   "source": [
    "'Item_Visibility' has 526 '0' values"
   ]
  },
  {
   "cell_type": "code",
   "execution_count": null,
   "id": "be3b9b02",
   "metadata": {},
   "outputs": [],
   "source": [
    "(BM_test==0).sum()"
   ]
  },
  {
   "cell_type": "markdown",
   "id": "a459ddc5",
   "metadata": {},
   "source": [
    "'Item_Visibility' has 353 '0' values"
   ]
  },
  {
   "cell_type": "markdown",
   "id": "7efce8b6",
   "metadata": {},
   "source": [
    "# Step 5 Getting the basic summary and statistical information of the data."
   ]
  },
  {
   "cell_type": "code",
   "execution_count": null,
   "id": "32480f4d",
   "metadata": {},
   "outputs": [],
   "source": [
    "BM_train.nunique()"
   ]
  },
  {
   "cell_type": "markdown",
   "id": "06c9f4b1",
   "metadata": {},
   "source": [
    "Item_Fat_Content has 5 unique categories\n",
    "\n",
    "Item_Type has 16 unique categories\n",
    "\n",
    "Outlet_Identifier has 10 unique categories\n",
    "\n",
    "Outlet_Establishment_Year 9 discrete values\n",
    "\n",
    "Outlet_Size has 3 unique categories\n",
    "\n",
    "Outlet_Location_Type has 3 unique categories\n",
    "\n",
    "Outlet_Type has 4 unique categories"
   ]
  },
  {
   "cell_type": "code",
   "execution_count": null,
   "id": "56023682",
   "metadata": {},
   "outputs": [],
   "source": [
    "BM_test.nunique()"
   ]
  },
  {
   "cell_type": "code",
   "execution_count": null,
   "id": "f131814a",
   "metadata": {},
   "outputs": [],
   "source": [
    "BM_test.skew()"
   ]
  },
  {
   "cell_type": "markdown",
   "id": "eb9d7175",
   "metadata": {},
   "source": [
    "Item_Fat_Content has 5 unique categories\n",
    "\n",
    "Item_Type has 16 unique categories\n",
    "\n",
    "Outlet_Identifier has 10 unique categories\n",
    "\n",
    "Outlet_Establishment_Year 9 discrete values\n",
    "\n",
    "Outlet_Size has 3 unique categories\n",
    "\n",
    "Outlet_Location_Type has 3 unique categories\n",
    "\n",
    "Outlet_Type has 4 unique categories"
   ]
  },
  {
   "cell_type": "markdown",
   "id": "aab24355",
   "metadata": {},
   "source": [
    "# Step 6 Getting the basic summary and statistical information of the data."
   ]
  },
  {
   "cell_type": "code",
   "execution_count": null,
   "id": "3d1667d0",
   "metadata": {},
   "outputs": [],
   "source": [
    "BM_train.info()"
   ]
  },
  {
   "cell_type": "code",
   "execution_count": null,
   "id": "f6ea66a2",
   "metadata": {},
   "outputs": [],
   "source": [
    "BM_test.info()"
   ]
  },
  {
   "cell_type": "markdown",
   "id": "26802d88",
   "metadata": {},
   "source": [
    "Item_Fat_Content, Item_Type,Outlet_Identifier,Outlet_Location_Type,Outlet_Size,Outlet_Type are object type meaning they are categorical in nature, while Outlet_Establishment_Year is discrete int type,\n",
    "\n",
    "Item_Weight, Item_Visibility, Item_MRP, Item_Outlet_Sales are float type and continuous in nature."
   ]
  },
  {
   "cell_type": "code",
   "execution_count": null,
   "id": "07ef3505",
   "metadata": {},
   "outputs": [],
   "source": [
    "BM_train.describe()"
   ]
  },
  {
   "cell_type": "code",
   "execution_count": null,
   "id": "845fcdf9",
   "metadata": {},
   "outputs": [],
   "source": [
    "BM_test.describe()"
   ]
  },
  {
   "cell_type": "markdown",
   "id": "cad88d77",
   "metadata": {},
   "source": [
    "From the above tables it is observed that the outlets have been operating from as early as 1985, on an average the outlets have been running since 1997, with last one having been established in 2009.\n",
    "\n",
    "The average MRP of the items is 140.9 and 50% of the items are priced upto around 143.\n",
    "\n",
    "The average sales made by the outlets is 2181.28"
   ]
  },
  {
   "cell_type": "markdown",
   "id": "459f0534",
   "metadata": {},
   "source": [
    "# Step 7 Filling Null Values in the datasets"
   ]
  },
  {
   "cell_type": "code",
   "execution_count": null,
   "id": "5df1bc6d",
   "metadata": {},
   "outputs": [],
   "source": [
    "BM_train.isnull().sum()"
   ]
  },
  {
   "cell_type": "markdown",
   "id": "f77592fa",
   "metadata": {},
   "source": [
    "'Item Weight' has 17.16% null values\n",
    "\n",
    "'Outlet_Size' has 28.27% null values"
   ]
  },
  {
   "cell_type": "code",
   "execution_count": null,
   "id": "cc440e81",
   "metadata": {},
   "outputs": [],
   "source": [
    "BM_test.isnull().sum()"
   ]
  },
  {
   "cell_type": "markdown",
   "id": "e4162dab",
   "metadata": {},
   "source": [
    "'Item Weight' has 17.18% null values\n",
    "\n",
    "'Outlet_Size' has 28.26% null values\n",
    "\n",
    "'Item_Weight' is continuous in nature, imputing null values with either mean or median will be the ideal strategy."
   ]
  },
  {
   "cell_type": "code",
   "execution_count": null,
   "id": "0ea215a7",
   "metadata": {},
   "outputs": [],
   "source": [
    "BM_train['Item_Weight'].head(50) #Examining the null values in 'Item_Weight'"
   ]
  },
  {
   "cell_type": "code",
   "execution_count": null,
   "id": "2822b13b",
   "metadata": {},
   "outputs": [],
   "source": [
    "BM_test['Item_Weight'].head(50)  #Examining the null values in 'Item_Weight'"
   ]
  },
  {
   "cell_type": "markdown",
   "id": "de3a5b04",
   "metadata": {},
   "source": [
    "# Step 8 Checking for outliers"
   ]
  },
  {
   "cell_type": "code",
   "execution_count": null,
   "id": "f05b9739",
   "metadata": {},
   "outputs": [],
   "source": [
    "sns.boxplot(BM_train['Item_Weight'])"
   ]
  },
  {
   "cell_type": "markdown",
   "id": "6d895156",
   "metadata": {},
   "source": [
    "No outliers exist"
   ]
  },
  {
   "cell_type": "code",
   "execution_count": null,
   "id": "7cfc9ae5",
   "metadata": {},
   "outputs": [],
   "source": [
    "sns.boxplot(BM_test['Item_Weight'])"
   ]
  },
  {
   "cell_type": "markdown",
   "id": "958a853f",
   "metadata": {},
   "source": [
    "No outliers exist\n",
    "\n",
    "'Item_Weight' also has a relation to 'item type', for eg: items belonging to 'Meat' / 'Fruits and Vegetables' won't be in the same weight range as those items that belong to 'Soft Drinks' or 'Hard Drinks'. Therefore filling in the null values with the mean of Item_weight values belonging to their own respective 'item type'."
   ]
  },
  {
   "cell_type": "code",
   "execution_count": null,
   "id": "1cd492d0",
   "metadata": {},
   "outputs": [],
   "source": [
    "BM_train['Item_Type'].value_counts()"
   ]
  },
  {
   "cell_type": "code",
   "execution_count": null,
   "id": "4a6c6eb7",
   "metadata": {},
   "outputs": [],
   "source": [
    "BM_test['Item_Type'].value_counts()"
   ]
  },
  {
   "cell_type": "code",
   "execution_count": null,
   "id": "d3ac4ccd",
   "metadata": {},
   "outputs": [],
   "source": [
    "mean_wt = BM_test.groupby('Item_Type').agg({'Item_Weight':'mean'})\n",
    "mean_wt1 = BM_train.groupby('Item_Type').agg({'Item_Weight':'mean'})"
   ]
  },
  {
   "cell_type": "markdown",
   "id": "59283084",
   "metadata": {},
   "source": [
    "Creating a series of mean weights based on their item identifier type."
   ]
  },
  {
   "cell_type": "code",
   "execution_count": null,
   "id": "e3cb2d32",
   "metadata": {},
   "outputs": [],
   "source": [
    "mean_wt1"
   ]
  },
  {
   "cell_type": "code",
   "execution_count": null,
   "id": "8f21022f",
   "metadata": {},
   "outputs": [],
   "source": [
    "mean_wt"
   ]
  },
  {
   "cell_type": "code",
   "execution_count": null,
   "id": "340488ea",
   "metadata": {},
   "outputs": [],
   "source": [
    "mean_wt1.index"
   ]
  },
  {
   "cell_type": "code",
   "execution_count": null,
   "id": "88c1d761",
   "metadata": {},
   "outputs": [],
   "source": [
    "mean_wt.index"
   ]
  },
  {
   "cell_type": "markdown",
   "id": "cce28575",
   "metadata": {},
   "source": [
    "Creating a new column in main dataframes to map corresponding values of the column to nan values."
   ]
  },
  {
   "cell_type": "code",
   "execution_count": null,
   "id": "c0db08d0",
   "metadata": {},
   "outputs": [],
   "source": [
    "meanwtdt = dict(zip(mean_wt.index,mean_wt.Item_Weight)) #dictionary with Item_Type values as keys and avg_wt values as values."
   ]
  },
  {
   "cell_type": "code",
   "execution_count": null,
   "id": "1dbde2e1",
   "metadata": {},
   "outputs": [],
   "source": [
    "meanwt1dt = dict(zip(mean_wt1.index,mean_wt1.Item_Weight)) #dictionary with Item_Type values as keys and avg_wt values as values."
   ]
  },
  {
   "cell_type": "code",
   "execution_count": null,
   "id": "85bc21a3",
   "metadata": {},
   "outputs": [],
   "source": [
    "BM_test['meanwt'] = BM_test['Item_Type'].map(meanwtdt) # This creates a column \"meanwt\" and maps values into it based on corresponding values of 'Item_Type'"
   ]
  },
  {
   "cell_type": "code",
   "execution_count": null,
   "id": "2da9c7c2",
   "metadata": {},
   "outputs": [],
   "source": [
    "BM_train['meanwt1'] = BM_train['Item_Type'].map(meanwt1dt) "
   ]
  },
  {
   "cell_type": "code",
   "execution_count": null,
   "id": "971d7d76",
   "metadata": {},
   "outputs": [],
   "source": [
    "BM_test"
   ]
  },
  {
   "cell_type": "code",
   "execution_count": null,
   "id": "77343b1a",
   "metadata": {},
   "outputs": [],
   "source": [
    "BM_train"
   ]
  },
  {
   "cell_type": "code",
   "execution_count": null,
   "id": "0505ce64",
   "metadata": {},
   "outputs": [],
   "source": [
    "BM_test['Item_Weight'] = BM_test['Item_Weight'].replace('None', np.nan) #replacing none type values with nan values"
   ]
  },
  {
   "cell_type": "code",
   "execution_count": null,
   "id": "a246fbfd",
   "metadata": {},
   "outputs": [],
   "source": [
    "BM_test['Item_Weight'] = BM_test['Item_Weight'].fillna((BM_test['meanwt'])) #filling null values in 'Item_Weight' with values from 'meanwt'"
   ]
  },
  {
   "cell_type": "code",
   "execution_count": null,
   "id": "45e0e336",
   "metadata": {},
   "outputs": [],
   "source": [
    "BM_train['Item_Weight'] = BM_train['Item_Weight'].replace('None', np.nan) #replacing none type values with nan values"
   ]
  },
  {
   "cell_type": "code",
   "execution_count": null,
   "id": "6418a4ec",
   "metadata": {},
   "outputs": [],
   "source": [
    "BM_train['Item_Weight'] = BM_train['Item_Weight'].fillna((BM_train['meanwt1'])) #filling null values in 'Item_Weight' with values from 'meanwt'"
   ]
  },
  {
   "cell_type": "code",
   "execution_count": null,
   "id": "21b9bed0",
   "metadata": {},
   "outputs": [],
   "source": [
    "BM_test.drop(columns='meanwt',inplace=True)"
   ]
  },
  {
   "cell_type": "code",
   "execution_count": null,
   "id": "6a48fde3",
   "metadata": {},
   "outputs": [],
   "source": [
    "BM_test"
   ]
  },
  {
   "cell_type": "code",
   "execution_count": null,
   "id": "198db1c8",
   "metadata": {},
   "outputs": [],
   "source": [
    "BM_test.isnull().sum()"
   ]
  },
  {
   "cell_type": "markdown",
   "id": "0b2a3068",
   "metadata": {},
   "source": [
    "No more null values exist in Item_Weight"
   ]
  },
  {
   "cell_type": "code",
   "execution_count": null,
   "id": "29c07f94",
   "metadata": {},
   "outputs": [],
   "source": [
    "BM_train.isnull().sum()"
   ]
  },
  {
   "cell_type": "markdown",
   "id": "427bcdf8",
   "metadata": {},
   "source": [
    "No more null values exist in Item_Weight"
   ]
  },
  {
   "cell_type": "code",
   "execution_count": null,
   "id": "ce057f26",
   "metadata": {},
   "outputs": [],
   "source": [
    "BM_train.drop(columns = ['meanwt1'],inplace=True)"
   ]
  },
  {
   "cell_type": "code",
   "execution_count": null,
   "id": "4ee1ddef",
   "metadata": {},
   "outputs": [],
   "source": [
    "BM_test['Item_Weight'].head(50)"
   ]
  },
  {
   "cell_type": "code",
   "execution_count": null,
   "id": "4ce2cc91",
   "metadata": {},
   "outputs": [],
   "source": [
    "BM_train['Item_Weight'].head(50)"
   ]
  },
  {
   "cell_type": "markdown",
   "id": "ac59aa10",
   "metadata": {},
   "source": [
    "# Step 9 Filling out the null values in Outlet_Size\n"
   ]
  },
  {
   "cell_type": "code",
   "execution_count": null,
   "id": "d79f880d",
   "metadata": {},
   "outputs": [],
   "source": [
    "BM_test['Outlet_Size'].value_counts()"
   ]
  },
  {
   "cell_type": "code",
   "execution_count": null,
   "id": "8d11631d",
   "metadata": {},
   "outputs": [],
   "source": [
    "BM_train['Outlet_Size'].value_counts()"
   ]
  },
  {
   "cell_type": "code",
   "execution_count": null,
   "id": "9d431074",
   "metadata": {},
   "outputs": [],
   "source": [
    "BM_train['Outlet_Size'] =BM_train['Outlet_Size'].fillna(BM_train['Outlet_Size'].mode()[0]) #filling null values in most frequently occuring value in Outlet_Size."
   ]
  },
  {
   "cell_type": "code",
   "execution_count": null,
   "id": "401eb7ef",
   "metadata": {},
   "outputs": [],
   "source": [
    "BM_test['Outlet_Size'] =BM_test['Outlet_Size'].fillna(BM_test['Outlet_Size'].mode()[0]) #filling null values in most frequently occuring value in Outlet_Size."
   ]
  },
  {
   "cell_type": "code",
   "execution_count": null,
   "id": "dfa2647a",
   "metadata": {},
   "outputs": [],
   "source": [
    "BM_test.isnull().sum()"
   ]
  },
  {
   "cell_type": "code",
   "execution_count": null,
   "id": "864fe275",
   "metadata": {},
   "outputs": [],
   "source": [
    "BM_train.isnull().sum()"
   ]
  },
  {
   "cell_type": "markdown",
   "id": "bfee0a1f",
   "metadata": {},
   "source": [
    "# Step 10 Dropping column 'Item_Identifier' since it doesn't contribute to building a good model for predicting the target variable values"
   ]
  },
  {
   "cell_type": "code",
   "execution_count": null,
   "id": "3bc9b233",
   "metadata": {},
   "outputs": [],
   "source": [
    "BM_train.drop(columns = ['Item_Identifier'],inplace=True)\n",
    "BM_test.drop(columns = ['Item_Identifier'],inplace=True)"
   ]
  },
  {
   "cell_type": "markdown",
   "id": "e38405e7",
   "metadata": {},
   "source": [
    "# Step 11 Analysing Features with Continuous data type"
   ]
  },
  {
   "cell_type": "code",
   "execution_count": null,
   "id": "ffe6c722",
   "metadata": {},
   "outputs": [],
   "source": [
    "BM_train.nunique()"
   ]
  },
  {
   "cell_type": "code",
   "execution_count": null,
   "id": "014d43fb",
   "metadata": {},
   "outputs": [],
   "source": [
    "sns.distplot(BM_train.Item_Weight )"
   ]
  },
  {
   "cell_type": "markdown",
   "id": "23ba0d23",
   "metadata": {},
   "source": [
    "Data looks normally distributed with mean,median and mode values falling within 10-15 range"
   ]
  },
  {
   "cell_type": "code",
   "execution_count": null,
   "id": "d7b7c9ea",
   "metadata": {},
   "outputs": [],
   "source": [
    "sns.distplot(BM_train.Item_Visibility )"
   ]
  },
  {
   "cell_type": "markdown",
   "id": "30406b5e",
   "metadata": {},
   "source": [
    "Data distribution is right skewed with values trailing off from 0.19 mark"
   ]
  },
  {
   "cell_type": "code",
   "execution_count": null,
   "id": "e85b50a5",
   "metadata": {},
   "outputs": [],
   "source": [
    "BM_train.Item_Visibility.skew()"
   ]
  },
  {
   "cell_type": "code",
   "execution_count": null,
   "id": "333203c5",
   "metadata": {},
   "outputs": [],
   "source": [
    "(BM_train.Item_Visibility==0).sum()"
   ]
  },
  {
   "cell_type": "code",
   "execution_count": null,
   "id": "c0db4797",
   "metadata": {},
   "outputs": [],
   "source": [
    "sns.boxplot(BM_train.Item_Visibility)"
   ]
  },
  {
   "cell_type": "markdown",
   "id": "d2dfd447",
   "metadata": {},
   "source": [
    "Outliers exist\n",
    "\n",
    "Removing outliers using z-score technique"
   ]
  },
  {
   "cell_type": "code",
   "execution_count": null,
   "id": "18bf433f",
   "metadata": {},
   "outputs": [],
   "source": [
    "df2 = BM_train.Item_Visibility.copy()"
   ]
  },
  {
   "cell_type": "code",
   "execution_count": null,
   "id": "c06b3978",
   "metadata": {},
   "outputs": [],
   "source": [
    "df2"
   ]
  },
  {
   "cell_type": "code",
   "execution_count": null,
   "id": "136e3fe0",
   "metadata": {},
   "outputs": [],
   "source": [
    "from scipy.stats import zscore\n",
    "zscor = zscore(df2)\n",
    "z_score_abs = np.abs(zscor)\n",
    "\n",
    "df3 = df2[(z_score_abs < 3)] #taking 3 as threshold value"
   ]
  },
  {
   "cell_type": "code",
   "execution_count": null,
   "id": "d0260d70",
   "metadata": {},
   "outputs": [],
   "source": [
    "df2.shape"
   ]
  },
  {
   "cell_type": "code",
   "execution_count": null,
   "id": "d51ba21c",
   "metadata": {},
   "outputs": [],
   "source": [
    "df3.shape"
   ]
  },
  {
   "cell_type": "markdown",
   "id": "40a3fa43",
   "metadata": {},
   "source": [
    "# Step 11 Data Loss % Check"
   ]
  },
  {
   "cell_type": "code",
   "execution_count": null,
   "id": "465bbdea",
   "metadata": {},
   "outputs": [],
   "source": [
    "(8523-8428)/8523*100"
   ]
  },
  {
   "cell_type": "markdown",
   "id": "9dcc4199",
   "metadata": {},
   "source": [
    "1.11% Data loss is within range that is acceptable"
   ]
  },
  {
   "cell_type": "code",
   "execution_count": null,
   "id": "354af3fa",
   "metadata": {},
   "outputs": [],
   "source": [
    "dropindx = BM_train.index.difference(df3.index)"
   ]
  },
  {
   "cell_type": "code",
   "execution_count": null,
   "id": "daadaf7a",
   "metadata": {},
   "outputs": [],
   "source": [
    "BM_train.drop(dropindx,inplace = True) #dropping the outliers from original features Dataframe"
   ]
  },
  {
   "cell_type": "code",
   "execution_count": null,
   "id": "c9b9ecc3",
   "metadata": {},
   "outputs": [],
   "source": [
    "sns.boxplot(BM_train.Item_Visibility)"
   ]
  },
  {
   "cell_type": "markdown",
   "id": "3fccc88f",
   "metadata": {},
   "source": [
    "Some amount of outliers has been removed."
   ]
  },
  {
   "cell_type": "code",
   "execution_count": null,
   "id": "f9da0ee3",
   "metadata": {},
   "outputs": [],
   "source": [
    "BM_train.skew()"
   ]
  },
  {
   "cell_type": "markdown",
   "id": "5cac882e",
   "metadata": {},
   "source": [
    "Imputing of 0 values using simple imputer and strategy = median"
   ]
  },
  {
   "cell_type": "code",
   "execution_count": null,
   "id": "7d26bea4",
   "metadata": {},
   "outputs": [],
   "source": [
    "from sklearn.impute import SimpleImputer"
   ]
  },
  {
   "cell_type": "code",
   "execution_count": null,
   "id": "8f82d46e",
   "metadata": {},
   "outputs": [],
   "source": [
    "si = SimpleImputer(missing_values = 0,strategy = 'median',verbose = 0 )"
   ]
  },
  {
   "cell_type": "code",
   "execution_count": null,
   "id": "66ade6fe",
   "metadata": {},
   "outputs": [],
   "source": [
    "si = si.fit(BM_train[['Item_Visibility']])"
   ]
  },
  {
   "cell_type": "code",
   "execution_count": null,
   "id": "adeba2e8",
   "metadata": {},
   "outputs": [],
   "source": [
    "BM_train[['Item_Visibility']] = si.transform(BM_train[['Item_Visibility']])"
   ]
  },
  {
   "cell_type": "code",
   "execution_count": null,
   "id": "8bd6cb23",
   "metadata": {},
   "outputs": [],
   "source": [
    "(BM_train==0).sum()"
   ]
  },
  {
   "cell_type": "markdown",
   "id": "060accff",
   "metadata": {},
   "source": [
    "There are no more 0 values."
   ]
  },
  {
   "cell_type": "code",
   "execution_count": null,
   "id": "b3dc5ad2",
   "metadata": {},
   "outputs": [],
   "source": [
    "si = SimpleImputer(missing_values = 0,strategy = 'median',verbose = 0 )"
   ]
  },
  {
   "cell_type": "code",
   "execution_count": null,
   "id": "d4305178",
   "metadata": {},
   "outputs": [],
   "source": [
    "Si = si.fit(BM_test[['Item_Visibility']])"
   ]
  },
  {
   "cell_type": "code",
   "execution_count": null,
   "id": "66764e9b",
   "metadata": {},
   "outputs": [],
   "source": [
    "BM_test[['Item_Visibility']] = Si.transform(BM_test[['Item_Visibility']])"
   ]
  },
  {
   "cell_type": "code",
   "execution_count": null,
   "id": "11214586",
   "metadata": {},
   "outputs": [],
   "source": [
    "(BM_test==0).sum()"
   ]
  },
  {
   "cell_type": "markdown",
   "id": "e9c532a5",
   "metadata": {},
   "source": [
    "There are no more 0 values."
   ]
  },
  {
   "cell_type": "code",
   "execution_count": null,
   "id": "536984a7",
   "metadata": {},
   "outputs": [],
   "source": [
    "BM_test.Item_Visibility.skew() "
   ]
  },
  {
   "cell_type": "markdown",
   "id": "8a55fd92",
   "metadata": {},
   "source": [
    "Removing outliers using z-score technique"
   ]
  },
  {
   "cell_type": "code",
   "execution_count": null,
   "id": "1e1d373f",
   "metadata": {},
   "outputs": [],
   "source": [
    "df2 = BM_test.Item_Visibility.copy()"
   ]
  },
  {
   "cell_type": "code",
   "execution_count": null,
   "id": "f5030378",
   "metadata": {},
   "outputs": [],
   "source": [
    "from scipy.stats import zscore\n",
    "zscor = zscore(df2)\n",
    "z_score_abs = np.abs(zscor)\n",
    "\n",
    "df3 = df2[(z_score_abs < 3)] #taking 3 as threshold value"
   ]
  },
  {
   "cell_type": "code",
   "execution_count": null,
   "id": "eaa38f55",
   "metadata": {},
   "outputs": [],
   "source": [
    "df2.shape"
   ]
  },
  {
   "cell_type": "code",
   "execution_count": null,
   "id": "e97c3679",
   "metadata": {},
   "outputs": [],
   "source": [
    "df3.shape"
   ]
  },
  {
   "cell_type": "markdown",
   "id": "cbebfa93",
   "metadata": {},
   "source": [
    "# Step 12 Data Loss % Check"
   ]
  },
  {
   "cell_type": "code",
   "execution_count": null,
   "id": "b635d5b6",
   "metadata": {},
   "outputs": [],
   "source": [
    "(5681-5594)/5681*100"
   ]
  },
  {
   "cell_type": "markdown",
   "id": "65692df5",
   "metadata": {},
   "source": [
    "1.53% Data loss is within acceptable range"
   ]
  },
  {
   "cell_type": "code",
   "execution_count": null,
   "id": "5f114ddf",
   "metadata": {},
   "outputs": [],
   "source": [
    "dropindx = BM_test.index.difference(df3.index)"
   ]
  },
  {
   "cell_type": "code",
   "execution_count": null,
   "id": "7048062f",
   "metadata": {},
   "outputs": [],
   "source": [
    "BM_test.drop(dropindx,inplace = True) #dropping the outliers from original features Dataframe"
   ]
  },
  {
   "cell_type": "code",
   "execution_count": null,
   "id": "bf5745cc",
   "metadata": {},
   "outputs": [],
   "source": [
    "BM_test.shape"
   ]
  },
  {
   "cell_type": "code",
   "execution_count": null,
   "id": "81400e63",
   "metadata": {},
   "outputs": [],
   "source": [
    "BM_train.reset_index(drop=True,inplace=True)"
   ]
  },
  {
   "cell_type": "code",
   "execution_count": null,
   "id": "2dd9feed",
   "metadata": {},
   "outputs": [],
   "source": [
    "BM_test.reset_index(drop=True,inplace=True)"
   ]
  },
  {
   "cell_type": "markdown",
   "id": "ed2770ba",
   "metadata": {},
   "source": [
    "# Step 13 Reducing skewness further using Power Transformer Method"
   ]
  },
  {
   "cell_type": "code",
   "execution_count": null,
   "id": "66e565dc",
   "metadata": {},
   "outputs": [],
   "source": [
    "from sklearn.preprocessing import PowerTransformer"
   ]
  },
  {
   "cell_type": "code",
   "execution_count": null,
   "id": "62a5d6b8",
   "metadata": {},
   "outputs": [],
   "source": [
    "powtrans= PowerTransformer(method='yeo-johnson', standardize=True)"
   ]
  },
  {
   "cell_type": "code",
   "execution_count": null,
   "id": "c62b07e8",
   "metadata": {},
   "outputs": [],
   "source": [
    "df4 = BM_train[['Item_Visibility']]"
   ]
  },
  {
   "cell_type": "code",
   "execution_count": null,
   "id": "7832fff5",
   "metadata": {},
   "outputs": [],
   "source": [
    "transformed= powtrans.fit_transform(df4[['Item_Visibility']])"
   ]
  },
  {
   "cell_type": "code",
   "execution_count": null,
   "id": "fb3ba5c3",
   "metadata": {},
   "outputs": [],
   "source": [
    "transformed = pd.DataFrame(transformed, columns=df4.columns) #to convert numpy array back into dataframe"
   ]
  },
  {
   "cell_type": "code",
   "execution_count": null,
   "id": "621f6069",
   "metadata": {},
   "outputs": [],
   "source": [
    "transformed.skew()"
   ]
  },
  {
   "cell_type": "code",
   "execution_count": null,
   "id": "17ecaaa8",
   "metadata": {},
   "outputs": [],
   "source": [
    "transformed.index = BM_train.index"
   ]
  },
  {
   "cell_type": "code",
   "execution_count": null,
   "id": "28f95f79",
   "metadata": {},
   "outputs": [],
   "source": [
    "BM_train[['Item_Visibility']]= transformed[['Item_Visibility']]"
   ]
  },
  {
   "cell_type": "code",
   "execution_count": null,
   "id": "cb61fbf9",
   "metadata": {},
   "outputs": [],
   "source": [
    "BM_train.Item_Visibility.skew()"
   ]
  },
  {
   "cell_type": "markdown",
   "id": "26262cfc",
   "metadata": {},
   "source": [
    "Skewness has been considerably reduced"
   ]
  },
  {
   "cell_type": "code",
   "execution_count": null,
   "id": "ca8e6a6c",
   "metadata": {},
   "outputs": [],
   "source": [
    "df5 = BM_test[['Item_Visibility']]"
   ]
  },
  {
   "cell_type": "code",
   "execution_count": null,
   "id": "36ecac4f",
   "metadata": {},
   "outputs": [],
   "source": [
    "transformed= powtrans.fit_transform(df5[['Item_Visibility']])"
   ]
  },
  {
   "cell_type": "code",
   "execution_count": null,
   "id": "84b57f7d",
   "metadata": {},
   "outputs": [],
   "source": [
    "transformed = pd.DataFrame(transformed, columns=df5.columns) #to convert numpy array back into dataframe"
   ]
  },
  {
   "cell_type": "code",
   "execution_count": null,
   "id": "99747bc8",
   "metadata": {},
   "outputs": [],
   "source": [
    "transformed.skew()"
   ]
  },
  {
   "cell_type": "code",
   "execution_count": null,
   "id": "e1f1b46b",
   "metadata": {},
   "outputs": [],
   "source": [
    "transformed.index = BM_test.index"
   ]
  },
  {
   "cell_type": "code",
   "execution_count": null,
   "id": "b11e1ad9",
   "metadata": {},
   "outputs": [],
   "source": [
    "BM_test[['Item_Visibility']]= transformed[['Item_Visibility']]"
   ]
  },
  {
   "cell_type": "code",
   "execution_count": null,
   "id": "33890997",
   "metadata": {},
   "outputs": [],
   "source": [
    "BM_test.skew()"
   ]
  },
  {
   "cell_type": "markdown",
   "id": "ef0c9838",
   "metadata": {},
   "source": [
    "Skewness has been considerably reduced"
   ]
  },
  {
   "cell_type": "code",
   "execution_count": null,
   "id": "19a208d5",
   "metadata": {},
   "outputs": [],
   "source": [
    "sns.distplot(BM_train.Item_MRP )"
   ]
  },
  {
   "cell_type": "markdown",
   "id": "bc579bbc",
   "metadata": {},
   "source": [
    "Distribution appears to be multi modal. The mean MRP of the items is 140.9."
   ]
  },
  {
   "cell_type": "code",
   "execution_count": null,
   "id": "fa72de55",
   "metadata": {},
   "outputs": [],
   "source": [
    "sns.boxplot(BM_train.Item_MRP)"
   ]
  },
  {
   "cell_type": "markdown",
   "id": "c1cce5c5",
   "metadata": {},
   "source": [
    "No outliers present\n",
    "\n",
    "# Step 14 Analysing Outlet_Establishment_Year Feature"
   ]
  },
  {
   "cell_type": "code",
   "execution_count": null,
   "id": "5a901a24",
   "metadata": {},
   "outputs": [],
   "source": [
    "BM_train.Outlet_Establishment_Year.value_counts()"
   ]
  },
  {
   "cell_type": "code",
   "execution_count": null,
   "id": "4f17594e",
   "metadata": {},
   "outputs": [],
   "source": [
    "sns.countplot(BM_train.Outlet_Establishment_Year)"
   ]
  },
  {
   "cell_type": "markdown",
   "id": "7e769f55",
   "metadata": {},
   "source": [
    "Highest number of outlets were established in 1985. With the exception of 1998,1987,1997,1999,2002,2004,2007,2009 saw a similar number of new outlets having been established.\n",
    "\n",
    "# Step 15 Extracting the age of outlets from Outlet_Establishment_Year column will give a better insight into its relationship with target column data."
   ]
  },
  {
   "cell_type": "code",
   "execution_count": null,
   "id": "e8d9c195",
   "metadata": {},
   "outputs": [],
   "source": [
    "BM_train['Age'] = BM_train['Outlet_Establishment_Year'].apply(lambda y: 2021 - y) \n",
    "\n",
    "BM_test['Age'] = BM_test['Outlet_Establishment_Year'].apply(lambda x: 2021 - x)"
   ]
  },
  {
   "cell_type": "code",
   "execution_count": null,
   "id": "863c59e8",
   "metadata": {},
   "outputs": [],
   "source": [
    "BM_test.drop(columns=['Outlet_Establishment_Year'],inplace=True)\n",
    "BM_train.drop(columns=['Outlet_Establishment_Year'],inplace=True)"
   ]
  },
  {
   "cell_type": "code",
   "execution_count": null,
   "id": "ab8e9f78",
   "metadata": {},
   "outputs": [],
   "source": [
    "BM_test.head()"
   ]
  },
  {
   "cell_type": "code",
   "execution_count": null,
   "id": "dca88c1a",
   "metadata": {},
   "outputs": [],
   "source": [
    "BM_train.head()"
   ]
  },
  {
   "cell_type": "code",
   "execution_count": null,
   "id": "7af677bd",
   "metadata": {},
   "outputs": [],
   "source": [
    "BM_train.Age.value_counts()"
   ]
  },
  {
   "cell_type": "code",
   "execution_count": null,
   "id": "7188ce25",
   "metadata": {},
   "outputs": [],
   "source": [
    "sns.countplot(BM_train.Age)"
   ]
  },
  {
   "cell_type": "markdown",
   "id": "89738f8e",
   "metadata": {},
   "source": [
    "Highest number of outlet is 36 years old\n",
    "\n",
    "Item_Weight 431 Item_Fat_Content 5 Item_Visibility 7880 Item_Type 16 Item_MRP 5938 Outlet_Identifier 10 Outlet_Establishment_Year 9 Outlet_Size 3 Outlet_Location_Type 3 Outlet_Type 4 Item_Outlet_Sales 3493 dtype: int64"
   ]
  },
  {
   "cell_type": "code",
   "execution_count": null,
   "id": "9c7cd49e",
   "metadata": {},
   "outputs": [],
   "source": [
    "BM_train.Item_Fat_Content.unique()"
   ]
  },
  {
   "cell_type": "markdown",
   "id": "60f5637b",
   "metadata": {},
   "source": [
    "'Item_Fat_Content' actually has only 2 unique categories : 'Low Fat' and 'Regular' while 'low fat' and 'LF' are infact 'Low Fat' while 'reg' is actually 'Regular.'"
   ]
  },
  {
   "cell_type": "markdown",
   "id": "10919b00",
   "metadata": {},
   "source": [
    "# Step 16 Converting the mistyped ones to the original categories"
   ]
  },
  {
   "cell_type": "code",
   "execution_count": null,
   "id": "4e120f27",
   "metadata": {},
   "outputs": [],
   "source": [
    "BM_train['Item_Fat_Content'] = BM_train['Item_Fat_Content'].replace({'reg':'Regular','low fat':'Low Fat','LF':'Low Fat'})"
   ]
  },
  {
   "cell_type": "code",
   "execution_count": null,
   "id": "f9267934",
   "metadata": {},
   "outputs": [],
   "source": [
    "BM_test['Item_Fat_Content'] = BM_test['Item_Fat_Content'].replace({'reg':'Regular','low fat':'Low Fat','LF':'Low Fat'})"
   ]
  },
  {
   "cell_type": "code",
   "execution_count": null,
   "id": "a79445d4",
   "metadata": {},
   "outputs": [],
   "source": [
    "BM_test.Item_Fat_Content.value_counts()"
   ]
  },
  {
   "cell_type": "code",
   "execution_count": null,
   "id": "1d8aa305",
   "metadata": {},
   "outputs": [],
   "source": [
    "BM_train.Item_Fat_Content.value_counts()"
   ]
  },
  {
   "cell_type": "code",
   "execution_count": null,
   "id": "965b78c2",
   "metadata": {},
   "outputs": [],
   "source": [
    "sns.countplot(BM_train.Item_Fat_Content)"
   ]
  },
  {
   "cell_type": "markdown",
   "id": "633f7362",
   "metadata": {},
   "source": [
    "Low fat products are mor popular than Regular fat products"
   ]
  },
  {
   "cell_type": "code",
   "execution_count": null,
   "id": "258e73a5",
   "metadata": {},
   "outputs": [],
   "source": [
    "labels = 'Low Fat','Regular'\n",
    "fig, ax = plt.subplots()\n",
    "ax.pie(BM_train.Item_Fat_Content.value_counts(),labels = labels,radius =1,autopct = '%1.2f%%', shadow=True,)\n",
    "plt.show()"
   ]
  },
  {
   "cell_type": "markdown",
   "id": "a2839ecb",
   "metadata": {},
   "source": [
    "Low Fat products form 64.82% of total sold items while Regular forms 35.18%"
   ]
  },
  {
   "cell_type": "code",
   "execution_count": null,
   "id": "2d0d82c1",
   "metadata": {},
   "outputs": [],
   "source": [
    "BM_train.Item_Type.value_counts()"
   ]
  },
  {
   "cell_type": "markdown",
   "id": "0273e059",
   "metadata": {},
   "source": [
    "Item_Type has 16 unique categories."
   ]
  },
  {
   "cell_type": "code",
   "execution_count": null,
   "id": "2d4240f6",
   "metadata": {},
   "outputs": [],
   "source": [
    "plt.figure(figsize=(20,11))\n",
    "sns.countplot(BM_train.Item_Type)"
   ]
  },
  {
   "cell_type": "markdown",
   "id": "aa9f5ed3",
   "metadata": {},
   "source": [
    "Most bought items are Fruits and Vegetables, Household items, Snack Food, and Frozen foods.\n",
    "\n",
    "# Step 17 We can further club these catergories into Foods, Beverages and Inedibles"
   ]
  },
  {
   "cell_type": "code",
   "execution_count": null,
   "id": "df7aedf5",
   "metadata": {},
   "outputs": [],
   "source": [
    "BM_train['Item_Type'] = BM_train['Item_Type'].replace({'Dairy':'Foods','Soft Drinks':'Beverages','Meat':'Foods', 'Fruits and Vegetables':'Foods','Household':'Inedibles','Baking Goods':'Foods','Snack Foods':'Foods','Frozen Foods':'Foods','Breakfast':'Foods','Health and Hygiene':'Inedibles','Hard Drinks':'Beverages','Canned':'Foods','Breads':'Foods','Starchy Foods':'Foods','Others':'Inedibles','Seafood':'Foods'})"
   ]
  },
  {
   "cell_type": "code",
   "execution_count": null,
   "id": "31c8475e",
   "metadata": {},
   "outputs": [],
   "source": [
    "BM_test['Item_Type'] = BM_train['Item_Type'].replace({'Dairy':'Foods','Soft Drinks':'Beverages','Meat':'Foods', 'Fruits and Vegetables':'Foods','Household':'Inedibles','Baking Goods':'Foods','Snack Foods':'Foods','Frozen Foods':'Foods','Breakfast':'Foods','Health and Hygiene':'Inedibles','Hard Drinks':'Beverages','Canned':'Foods','Breads':'Foods','Starchy Foods':'Foods','Others':'Inedibles','Seafood':'Foods'})"
   ]
  },
  {
   "cell_type": "code",
   "execution_count": null,
   "id": "d0b23f38",
   "metadata": {},
   "outputs": [],
   "source": [
    "BM_train.head() "
   ]
  },
  {
   "cell_type": "code",
   "execution_count": null,
   "id": "01e2a0d2",
   "metadata": {},
   "outputs": [],
   "source": [
    "BM_test.head()"
   ]
  },
  {
   "cell_type": "markdown",
   "id": "3f16a869",
   "metadata": {},
   "source": [
    "Successfully converted the Item_type categories into 'Foods','Beverages' and 'Inedibles'\n",
    "\n",
    "# Step 18 Item_fat_Content is not Applicable to 'Inedibles', therefore creating a separate category for them under 'Item_Fat_Content'"
   ]
  },
  {
   "cell_type": "code",
   "execution_count": null,
   "id": "3a222c0e",
   "metadata": {},
   "outputs": [],
   "source": [
    "BM_train.loc[BM_train['Item_Type']==\"Inedibles\",'Item_Fat_Content'] = \"Inedible\" \n",
    "#assigns all those values in 'Item_Fat_Content' column to 'Inedible' category, which correspond to values in 'Item_Type' column"
   ]
  },
  {
   "cell_type": "code",
   "execution_count": null,
   "id": "23705ae9",
   "metadata": {},
   "outputs": [],
   "source": [
    "BM_test.loc[BM_test['Item_Type']==\"Inedibles\",'Item_Fat_Content'] = \"Inedible\" \n",
    "#assigns all those values in 'Item_Fat_Content' column to 'Inedible' category, which correspond to values in 'Item_Type' column"
   ]
  },
  {
   "cell_type": "code",
   "execution_count": null,
   "id": "6e8e1be7",
   "metadata": {},
   "outputs": [],
   "source": [
    "BM_train.head(10)"
   ]
  },
  {
   "cell_type": "code",
   "execution_count": null,
   "id": "11fc439a",
   "metadata": {},
   "outputs": [],
   "source": [
    "BM_test.head(10)"
   ]
  },
  {
   "cell_type": "code",
   "execution_count": null,
   "id": "3b54e6b2",
   "metadata": {},
   "outputs": [],
   "source": [
    "BM_train.Outlet_Size.value_counts()"
   ]
  },
  {
   "cell_type": "code",
   "execution_count": null,
   "id": "c12c994e",
   "metadata": {},
   "outputs": [],
   "source": [
    "labels = 'Medium','Small','High' \n",
    "fig, ax = plt.subplots()\n",
    "ax.pie(BM_train.Outlet_Size.value_counts(),labels = labels,radius =1,autopct = '%1.2f%%', shadow=True,)\n",
    "plt.show()"
   ]
  },
  {
   "cell_type": "markdown",
   "id": "b990405f",
   "metadata": {},
   "source": [
    "Medium Sized outlets form the majority with 61.24% of total outlets, Small outlets are 27.71% while High sized outlets are 11.06% of the total outlets."
   ]
  },
  {
   "cell_type": "code",
   "execution_count": null,
   "id": "87c061cd",
   "metadata": {},
   "outputs": [],
   "source": [
    "BM_train.Outlet_Location_Type.value_counts()"
   ]
  },
  {
   "cell_type": "code",
   "execution_count": null,
   "id": "9a56f95a",
   "metadata": {},
   "outputs": [],
   "source": [
    "labels = 'Tier 3','Tier 2','Tier 1' \n",
    "fig, ax = plt.subplots()\n",
    "ax.pie(BM_train.Outlet_Location_Type.value_counts(),labels = labels,radius =1,autopct = '%1.2f%%', shadow=True,)\n",
    "plt.show()"
   ]
  },
  {
   "cell_type": "markdown",
   "id": "221d727a",
   "metadata": {},
   "source": [
    "39.25% of total outlets are in Tier 3 cities, 33.04% of the outlets are in Tier 2 cities while 27.71% of the total outlets are in Tier 1 cities."
   ]
  },
  {
   "cell_type": "code",
   "execution_count": null,
   "id": "fea9cf06",
   "metadata": {},
   "outputs": [],
   "source": [
    "BM_train.Outlet_Type.value_counts()"
   ]
  },
  {
   "cell_type": "code",
   "execution_count": null,
   "id": "e7e8940d",
   "metadata": {},
   "outputs": [],
   "source": [
    "sns.countplot(BM_train.Outlet_Type)"
   ]
  },
  {
   "cell_type": "markdown",
   "id": "ba53d611",
   "metadata": {},
   "source": [
    "Highest number of outlets are of Supermarket type 1. while the rest are almost equally divided amongst Supermarket type 2,Supermarket type 3 and Grocery Store."
   ]
  },
  {
   "cell_type": "code",
   "execution_count": null,
   "id": "e2bc5b94",
   "metadata": {},
   "outputs": [],
   "source": [
    "BM_train.isnull().sum()"
   ]
  },
  {
   "cell_type": "markdown",
   "id": "d4f91e60",
   "metadata": {},
   "source": [
    "# Step 19  Interpreting Relationship between Dependent Variable and Independent Variables\n",
    "\n",
    "# 'Item_Outlet_Sales' vs MRP\n",
    "\n",
    "# 'Item_Outlet_Sales' vs Continuous Data Columns"
   ]
  },
  {
   "cell_type": "code",
   "execution_count": null,
   "id": "bac87a62",
   "metadata": {},
   "outputs": [],
   "source": [
    "X = BM_train[['Item_MRP','Item_Weight','Item_Visibility']]\n",
    "y = BM_train['Item_Outlet_Sales']"
   ]
  },
  {
   "cell_type": "code",
   "execution_count": null,
   "id": "4f76c7f3",
   "metadata": {},
   "outputs": [],
   "source": [
    "plt.figure(figsize=(20,25),facecolor='white')\n",
    "plotnum=1\n",
    "for col in X:\n",
    "    if plotnum<=23:\n",
    "        plt.subplot(5,5,plotnum)\n",
    "        sns.scatterplot(X[col],y)\n",
    "        plt.xlabel(col,fontsize=20)\n",
    "        plt.ylabel('Item_Outlet_Sales',fontsize=20)\n",
    "    plotnum+=1\n",
    "plt.tight_layout()"
   ]
  },
  {
   "cell_type": "markdown",
   "id": "dc2f989b",
   "metadata": {},
   "source": [
    "From the graph above, it is observed that There is a positive linear relationship between Item_Outlet_Sales and Item_MRP\n",
    "\n",
    "'Item_Outlet_Sales' vs Categorical/Discrete Data Columns"
   ]
  },
  {
   "cell_type": "code",
   "execution_count": null,
   "id": "1921a335",
   "metadata": {},
   "outputs": [],
   "source": [
    "plt.figure(figsize=(20,25),facecolor='white')\n",
    "plotnum=1\n",
    "y = BM_train['Item_Outlet_Sales']\n",
    "X = BM_train.drop(columns=['Item_MRP','Item_Weight','Item_Visibility','Item_Outlet_Sales'])\n",
    "for col in X:\n",
    "    if plotnum<=23:\n",
    "        plt.subplot(5,5,plotnum)\n",
    "        sns.scatterplot(X[col],y)\n",
    "        plt.xlabel(col,fontsize=20)\n",
    "        plt.ylabel('Item_Outlet_Sales',fontsize=20)\n",
    "    plotnum+=1\n",
    "plt.tight_layout()"
   ]
  },
  {
   "cell_type": "markdown",
   "id": "fee54a6e",
   "metadata": {},
   "source": [
    "From the above graphs it is observed that Outlet_type has a positive relation with Item_Outlet_sales.\n",
    "\n",
    "Supermarket Type3 generates the more sales when compared to the Supermarket types 1 and 2 and Grocery Stores.\n",
    "\n",
    "Tier 3 City Outlets generate a lot of sales. Age of the establishment also plays an important role when age of the establishment is above 30. This maybe because Outlets that have been running for the longest sell the highest."
   ]
  },
  {
   "cell_type": "code",
   "execution_count": null,
   "id": "39c5c5ac",
   "metadata": {},
   "outputs": [],
   "source": [
    "sns.scatterplot(data=BM_train, x='Outlet_Location_Type', y='Item_Outlet_Sales', hue='Outlet_Type')"
   ]
  },
  {
   "cell_type": "markdown",
   "id": "a1bf1eb4",
   "metadata": {},
   "source": [
    "From the graph it is observed that Tier 3 Cities generate the most sales and have a good mix of Supermarket Type 2 and Type 3 along with Grocery stores.\n",
    "\n",
    "Tier 2 and Tier 1 cities have more of Supermarket Type1 with a few Grocery stores.\n",
    "\n",
    "Outlet_Location_Type has a good relation with Item_Outlet_sales"
   ]
  },
  {
   "cell_type": "code",
   "execution_count": null,
   "id": "15404d45",
   "metadata": {},
   "outputs": [],
   "source": [
    "sns.scatterplot(data=BM_train, x='Outlet_Size', y='Item_Outlet_Sales', hue='Outlet_Type')"
   ]
  },
  {
   "cell_type": "markdown",
   "id": "14197399",
   "metadata": {},
   "source": [
    "From the graph it is observed that Medium Sized Outlets generate the Highest sales and are a mix of Supermaraket Type1,Type2,Type3 and Grocery Stores.\n",
    "\n",
    "High and small Sized Outlets comprise mostly of Supermarket Type1\n",
    "\n",
    "# Step 20 Encoding Categorical Columns\n",
    "\n"
   ]
  },
  {
   "cell_type": "code",
   "execution_count": null,
   "id": "c698b109",
   "metadata": {},
   "outputs": [],
   "source": [
    "dumm = pd.get_dummies(BM_train[['Outlet_Type','Outlet_Identifier']])"
   ]
  },
  {
   "cell_type": "code",
   "execution_count": null,
   "id": "2f707523",
   "metadata": {},
   "outputs": [],
   "source": [
    "dumm"
   ]
  },
  {
   "cell_type": "code",
   "execution_count": null,
   "id": "e70db1e5",
   "metadata": {},
   "outputs": [],
   "source": [
    "dumm2 = pd.get_dummies(BM_test[['Outlet_Type','Outlet_Identifier']],drop_first = False)"
   ]
  },
  {
   "cell_type": "code",
   "execution_count": null,
   "id": "0b562642",
   "metadata": {},
   "outputs": [],
   "source": [
    "dumm2"
   ]
  },
  {
   "cell_type": "code",
   "execution_count": null,
   "id": "c3abebd2",
   "metadata": {},
   "outputs": [],
   "source": [
    "dm_train = BM_train.copy()\n",
    "dm_test = BM_test.copy()"
   ]
  },
  {
   "cell_type": "code",
   "execution_count": null,
   "id": "c89bb31d",
   "metadata": {},
   "outputs": [],
   "source": [
    "BM_train = BM_train.join(dumm)"
   ]
  },
  {
   "cell_type": "code",
   "execution_count": null,
   "id": "f73ba405",
   "metadata": {},
   "outputs": [],
   "source": [
    "BM_train.drop(columns=['Outlet_Type','Outlet_Identifier'],inplace=True)"
   ]
  },
  {
   "cell_type": "code",
   "execution_count": null,
   "id": "9848b667",
   "metadata": {},
   "outputs": [],
   "source": [
    "BM_train"
   ]
  },
  {
   "cell_type": "code",
   "execution_count": null,
   "id": "6f7876a3",
   "metadata": {},
   "outputs": [],
   "source": [
    "BM_test = BM_test.join(dumm2)"
   ]
  },
  {
   "cell_type": "code",
   "execution_count": null,
   "id": "7a8051e8",
   "metadata": {},
   "outputs": [],
   "source": [
    "BM_test.drop(columns=['Outlet_Type','Outlet_Identifier'],inplace=True)"
   ]
  },
  {
   "cell_type": "code",
   "execution_count": null,
   "id": "ef26fda3",
   "metadata": {},
   "outputs": [],
   "source": [
    "BM_test"
   ]
  },
  {
   "cell_type": "code",
   "execution_count": null,
   "id": "bc78e897",
   "metadata": {},
   "outputs": [],
   "source": [
    "BM_train['Item_Fat_Content'] = BM_train.Item_Fat_Content.map({'Inedible':1,'Low Fat':2,'Regular':3})"
   ]
  },
  {
   "cell_type": "code",
   "execution_count": null,
   "id": "33f9031e",
   "metadata": {},
   "outputs": [],
   "source": [
    "BM_test['Item_Fat_Content'] = BM_test.Item_Fat_Content.map({'Inedible':1,'Low Fat':2,'Regular':3})"
   ]
  },
  {
   "cell_type": "code",
   "execution_count": null,
   "id": "72e1ceec",
   "metadata": {},
   "outputs": [],
   "source": [
    "BM_train['Item_Type'] = BM_train.Item_Type.map({'Inedibles':1,'Foods':2,'Beverages':3})"
   ]
  },
  {
   "cell_type": "code",
   "execution_count": null,
   "id": "08261d20",
   "metadata": {},
   "outputs": [],
   "source": [
    "BM_test['Item_Type'] = BM_test.Item_Type.map({'Inedibles':1,'Foods':2,'Beverages':3})"
   ]
  },
  {
   "cell_type": "code",
   "execution_count": null,
   "id": "539ba30a",
   "metadata": {},
   "outputs": [],
   "source": [
    "BM_train['Outlet_Size'] = BM_train.Outlet_Size.map({'Small':1,'Medium':2,'High':3})"
   ]
  },
  {
   "cell_type": "code",
   "execution_count": null,
   "id": "a203d4cd",
   "metadata": {},
   "outputs": [],
   "source": [
    "BM_test['Outlet_Size'] = BM_test.Outlet_Size.map({'Small':1,'Medium':2,'High':3})"
   ]
  },
  {
   "cell_type": "code",
   "execution_count": null,
   "id": "91aa9d87",
   "metadata": {},
   "outputs": [],
   "source": [
    "BM_train['Outlet_Location_Type'] = BM_train.Outlet_Location_Type.map({'Tier 1':1,'Tier 2':2,'Tier 3':3})"
   ]
  },
  {
   "cell_type": "code",
   "execution_count": null,
   "id": "b5ca11c6",
   "metadata": {},
   "outputs": [],
   "source": [
    "BM_test['Outlet_Location_Type'] = BM_test.Outlet_Location_Type.map({'Tier 1':1,'Tier 2':2,'Tier 3':3})"
   ]
  },
  {
   "cell_type": "code",
   "execution_count": null,
   "id": "f869424d",
   "metadata": {},
   "outputs": [],
   "source": [
    "BM_train.head(10)"
   ]
  },
  {
   "cell_type": "code",
   "execution_count": null,
   "id": "ce94c1f7",
   "metadata": {},
   "outputs": [],
   "source": [
    "BM_test.head(10)"
   ]
  },
  {
   "cell_type": "markdown",
   "id": "b3e24aad",
   "metadata": {},
   "source": [
    "# Step 21 All categorical columns have been encoded\n",
    "\n",
    "# 1) Finding Correlation"
   ]
  },
  {
   "cell_type": "code",
   "execution_count": null,
   "id": "a114b35d",
   "metadata": {},
   "outputs": [],
   "source": [
    "d_corr = BM_train.corr()"
   ]
  },
  {
   "cell_type": "code",
   "execution_count": null,
   "id": "65e95ba6",
   "metadata": {},
   "outputs": [],
   "source": [
    "d_corr"
   ]
  },
  {
   "cell_type": "code",
   "execution_count": null,
   "id": "59ebd572",
   "metadata": {},
   "outputs": [],
   "source": [
    "plt.figure(figsize=(15,16))\n",
    "sns.heatmap(d_corr,annot=True,linewidth=1)\n",
    "plt.show()"
   ]
  },
  {
   "cell_type": "markdown",
   "id": "319d3a2b",
   "metadata": {},
   "source": [
    "# 2) Visualizing correlation of feature columns with label column."
   ]
  },
  {
   "cell_type": "code",
   "execution_count": null,
   "id": "322b6ad6",
   "metadata": {},
   "outputs": [],
   "source": [
    "plt.figure(figsize = (20,8))\n",
    "BM_train.corr()['Item_Outlet_Sales'].sort_values(ascending = False).drop(['Item_Outlet_Sales']).plot(kind='bar',color = 'c')\n",
    "plt.xlabel('Features',fontsize=15)\n",
    "plt.ylabel('Item_Outlet_Sales',fontsize=15)\n",
    "plt.title('correlation',fontsize = 18)\n",
    "plt.show()"
   ]
  },
  {
   "cell_type": "markdown",
   "id": "965e1bb9",
   "metadata": {},
   "source": [
    "Item_MRP has the highest positive correlation with Item_Outlet_Sales, followed by Outlet_Type_Supermarket Type3 and Outlet_Identifier_OUT027.\n",
    "\n",
    "Outlet_Type_Grocery Store has highest negative correlation with Item_Outlet_sales followed by Outlet_Identifier_OUT010 and Outlet_Identifier_OUT019\n",
    "\n",
    "\n",
    "# 3) Feature Selection\n"
   ]
  },
  {
   "cell_type": "code",
   "execution_count": null,
   "id": "bccedd2d",
   "metadata": {},
   "outputs": [],
   "source": [
    "from sklearn.preprocessing import StandardScaler"
   ]
  },
  {
   "cell_type": "code",
   "execution_count": null,
   "id": "e09e83a7",
   "metadata": {},
   "outputs": [],
   "source": [
    "X =BM_train.drop(columns=['Item_Outlet_Sales'])\n",
    "y =BM_train['Item_Outlet_Sales']"
   ]
  },
  {
   "cell_type": "code",
   "execution_count": null,
   "id": "59042d6e",
   "metadata": {},
   "outputs": [],
   "source": [
    "scaler= StandardScaler()"
   ]
  },
  {
   "cell_type": "code",
   "execution_count": null,
   "id": "5d65292b",
   "metadata": {},
   "outputs": [],
   "source": [
    "scaled_X = scaler.fit_transform(X)"
   ]
  },
  {
   "cell_type": "markdown",
   "id": "9136559b",
   "metadata": {},
   "source": [
    "# 4) Checking for Multicollinearity using Variance Inflation Factor"
   ]
  },
  {
   "cell_type": "code",
   "execution_count": null,
   "id": "31299ef7",
   "metadata": {},
   "outputs": [],
   "source": [
    "from statsmodels.stats.outliers_influence import variance_inflation_factor"
   ]
  },
  {
   "cell_type": "code",
   "execution_count": null,
   "id": "6d77d959",
   "metadata": {},
   "outputs": [],
   "source": [
    "vif = pd.DataFrame()"
   ]
  },
  {
   "cell_type": "code",
   "execution_count": null,
   "id": "e3acbd5a",
   "metadata": {},
   "outputs": [],
   "source": [
    "vif[\"Features\"] = X.columns\n",
    "vif['vif'] = [variance_inflation_factor(scaled_X,i) for i in range(scaled_X.shape[1])]"
   ]
  },
  {
   "cell_type": "code",
   "execution_count": null,
   "id": "1d2d1d00",
   "metadata": {},
   "outputs": [],
   "source": [
    "vif"
   ]
  },
  {
   "cell_type": "markdown",
   "id": "28a97a24",
   "metadata": {},
   "source": [
    "There is no multicollinearity"
   ]
  },
  {
   "cell_type": "code",
   "execution_count": null,
   "id": "d6c9f02d",
   "metadata": {},
   "outputs": [],
   "source": [
    "scaler= StandardScaler()\n",
    "scaled_X_test = scaler.fit_transform(BM_test)"
   ]
  },
  {
   "cell_type": "code",
   "execution_count": null,
   "id": "ebd2b45f",
   "metadata": {},
   "outputs": [],
   "source": [
    "scaled_X_test"
   ]
  },
  {
   "cell_type": "markdown",
   "id": "f4608edf",
   "metadata": {},
   "source": [
    "# 5) Selecting Kbest Features"
   ]
  },
  {
   "cell_type": "code",
   "execution_count": null,
   "id": "a8f1c27f",
   "metadata": {},
   "outputs": [],
   "source": [
    "from sklearn.feature_selection import SelectKBest, f_classif"
   ]
  },
  {
   "cell_type": "code",
   "execution_count": null,
   "id": "cbc56dcb",
   "metadata": {},
   "outputs": [],
   "source": [
    "bestfeat = SelectKBest(score_func = f_classif, k = 22)\n",
    "fit = bestfeat.fit(X,y)\n",
    "dfscores = pd.DataFrame(fit.scores_)\n",
    "dfcolumns = pd.DataFrame(X.columns)"
   ]
  },
  {
   "cell_type": "code",
   "execution_count": null,
   "id": "7cc7dadd",
   "metadata": {},
   "outputs": [],
   "source": [
    "fit = bestfeat.fit(X,y)\n",
    "dfscores = pd.DataFrame(fit.scores_)\n",
    "dfcolumns = pd.DataFrame(X.columns)\n",
    "dfcolumns.head()\n",
    "featureScores = pd.concat([dfcolumns,dfscores],axis = 1)\n",
    "featureScores.columns = ['Feature', 'Score']\n",
    "print(featureScores.nlargest(22,'Score'))"
   ]
  },
  {
   "cell_type": "code",
   "execution_count": null,
   "id": "1534a06e",
   "metadata": {},
   "outputs": [],
   "source": [
    "xbest = X.drop(columns=['Outlet_Identifier_OUT018','Outlet_Identifier_OUT045'])"
   ]
  },
  {
   "cell_type": "code",
   "execution_count": null,
   "id": "65d671e2",
   "metadata": {},
   "outputs": [],
   "source": [
    "xbest"
   ]
  },
  {
   "cell_type": "code",
   "execution_count": null,
   "id": "6edb53d3",
   "metadata": {},
   "outputs": [],
   "source": [
    "xbest_ss = scaler.fit_transform(xbest)"
   ]
  },
  {
   "cell_type": "code",
   "execution_count": null,
   "id": "f765d0f4",
   "metadata": {},
   "outputs": [],
   "source": [
    "x_best_test = BM_test.drop(columns=['Outlet_Identifier_OUT018','Outlet_Identifier_OUT045'])"
   ]
  },
  {
   "cell_type": "code",
   "execution_count": null,
   "id": "16771994",
   "metadata": {},
   "outputs": [],
   "source": [
    "scaler= StandardScaler()\n",
    "scaled_X_test = scaler.fit_transform(x_best_test)"
   ]
  },
  {
   "cell_type": "markdown",
   "id": "dffc34ee",
   "metadata": {},
   "source": [
    "# The Data to be predicted in Target / Label column is continuous in nature since it is the total value of item Sales from each outlet. Therefore Regression Models will be used.\n",
    "\n",
    "# Step 22 Regression Model Building"
   ]
  },
  {
   "cell_type": "code",
   "execution_count": null,
   "id": "e0a3233b",
   "metadata": {},
   "outputs": [],
   "source": [
    "from sklearn.model_selection import train_test_split"
   ]
  },
  {
   "cell_type": "code",
   "execution_count": null,
   "id": "764b50be",
   "metadata": {},
   "outputs": [],
   "source": [
    "from sklearn.metrics import r2_score"
   ]
  },
  {
   "cell_type": "code",
   "execution_count": null,
   "id": "692820e3",
   "metadata": {},
   "outputs": [],
   "source": [
    "from sklearn.ensemble import RandomForestRegressor\n",
    "maxAcc = 0\n",
    "maxRS=0\n",
    "for i in range(1,100):\n",
    "    x_train,x_test,y_train,y_test = train_test_split(xbest_ss,y,test_size = .33, random_state = i)\n",
    "    modRF =  RandomForestRegressor()\n",
    "    modRF.fit(x_train,y_train)\n",
    "    pred = modRF.predict(x_test)\n",
    "    acc  = r2_score(y_test,pred)\n",
    "    if acc>maxAcc:\n",
    "        maxAcc=acc\n",
    "        maxRS=i\n",
    "print(f\"Best Accuracy is: {maxAcc} on random_state: {maxRS}\")"
   ]
  },
  {
   "cell_type": "code",
   "execution_count": null,
   "id": "504c3dba",
   "metadata": {},
   "outputs": [],
   "source": [
    "x_train,x_test,y_train,y_test = train_test_split(xbest_ss,y,test_size = .33, random_state = 78)"
   ]
  },
  {
   "cell_type": "code",
   "execution_count": null,
   "id": "c8b51d9e",
   "metadata": {},
   "outputs": [],
   "source": [
    "from sklearn.model_selection import GridSearchCV\n",
    "from sklearn.linear_model import Ridge\n",
    "from sklearn.ensemble import RandomForestRegressor\n",
    "from xgboost import XGBRegressor\n",
    "from sklearn.svm import SVR\n",
    "from sklearn.metrics import r2_score,mean_squared_error"
   ]
  },
  {
   "cell_type": "code",
   "execution_count": null,
   "id": "7f1aa480",
   "metadata": {},
   "outputs": [],
   "source": [
    "rf = RandomForestRegressor()\n",
    "xg = XGBRegressor()\n",
    "SV= SVR()\n",
    "r=Ridge()"
   ]
  },
  {
   "cell_type": "markdown",
   "id": "aa46a492",
   "metadata": {},
   "source": [
    "# Step 23 Training the Models"
   ]
  },
  {
   "cell_type": "code",
   "execution_count": null,
   "id": "7192d58d",
   "metadata": {},
   "outputs": [],
   "source": [
    "rf.fit(x_train,y_train)\n",
    "xg.fit(x_train,y_train)\n",
    "SV.fit(x_train,y_train)\n",
    "r.fit(x_train,y_train)"
   ]
  },
  {
   "cell_type": "markdown",
   "id": "e0d35d69",
   "metadata": {},
   "source": [
    "# Step 24 All models have been trained\n",
    "\n",
    "# 1)Ridge Regression Model"
   ]
  },
  {
   "cell_type": "code",
   "execution_count": null,
   "id": "6fd49d27",
   "metadata": {},
   "outputs": [],
   "source": [
    "y_r_pred = r.predict(x_test)"
   ]
  },
  {
   "cell_type": "markdown",
   "id": "afb95ee5",
   "metadata": {},
   "source": [
    "# 2) R2 Score"
   ]
  },
  {
   "cell_type": "code",
   "execution_count": null,
   "id": "944f38f2",
   "metadata": {},
   "outputs": [],
   "source": [
    "r2_score(y_test,y_r_pred)"
   ]
  },
  {
   "cell_type": "code",
   "execution_count": null,
   "id": "48a19e7b",
   "metadata": {},
   "outputs": [],
   "source": [
    "# Mean Squared Error\n",
    "\n",
    "mean_squared_error(y_test,y_r_pred)"
   ]
  },
  {
   "cell_type": "markdown",
   "id": "729eda59",
   "metadata": {},
   "source": [
    "# 3) Random Forest Regression Model"
   ]
  },
  {
   "cell_type": "code",
   "execution_count": null,
   "id": "fdb08a9d",
   "metadata": {},
   "outputs": [],
   "source": [
    "y_rf_pred = rf.predict(x_test)"
   ]
  },
  {
   "cell_type": "code",
   "execution_count": null,
   "id": "9eb2e9fa",
   "metadata": {},
   "outputs": [],
   "source": [
    "# R2 Score\n",
    "\n",
    "r2_score(y_test,y_rf_pred)"
   ]
  },
  {
   "cell_type": "code",
   "execution_count": null,
   "id": "68b70007",
   "metadata": {},
   "outputs": [],
   "source": [
    "# Mean Squared Error\n",
    "\n",
    "mean_squared_error(y_test,y_rf_pred)"
   ]
  },
  {
   "cell_type": "markdown",
   "id": "bffae48c",
   "metadata": {},
   "source": [
    "# 4) XGB Regression Model"
   ]
  },
  {
   "cell_type": "code",
   "execution_count": null,
   "id": "be95d3a6",
   "metadata": {},
   "outputs": [],
   "source": [
    "y_xg_pred = xg.predict(x_test)"
   ]
  },
  {
   "cell_type": "code",
   "execution_count": null,
   "id": "518f1b7d",
   "metadata": {},
   "outputs": [],
   "source": [
    "# R2 Score\n",
    "\n",
    "r2_score(y_test,y_xg_pred)"
   ]
  },
  {
   "cell_type": "code",
   "execution_count": null,
   "id": "eede531b",
   "metadata": {},
   "outputs": [],
   "source": [
    "# Mean Squared Error\n",
    "\n",
    "mean_squared_error(y_test,y_xg_pred)"
   ]
  },
  {
   "cell_type": "markdown",
   "id": "fe6e4ed4",
   "metadata": {},
   "source": [
    "# 5)Support Vector Regression Model"
   ]
  },
  {
   "cell_type": "code",
   "execution_count": null,
   "id": "c603853a",
   "metadata": {},
   "outputs": [],
   "source": [
    "y_svr_pred = SV.predict(x_test)"
   ]
  },
  {
   "cell_type": "code",
   "execution_count": null,
   "id": "5cc76d11",
   "metadata": {},
   "outputs": [],
   "source": [
    "# R2 Score\n",
    "\n",
    "r2_score(y_test,y_svr_pred)"
   ]
  },
  {
   "cell_type": "code",
   "execution_count": null,
   "id": "0931b497",
   "metadata": {},
   "outputs": [],
   "source": [
    "# Mean Squared Error\n",
    "\n",
    "mean_squared_error(y_test,y_svr_pred)"
   ]
  },
  {
   "cell_type": "markdown",
   "id": "f3d6cf85",
   "metadata": {},
   "source": [
    "# Step 25  Model Cross Validation"
   ]
  },
  {
   "cell_type": "code",
   "execution_count": null,
   "id": "559b2b24",
   "metadata": {},
   "outputs": [],
   "source": [
    "from sklearn.model_selection import cross_val_score"
   ]
  },
  {
   "cell_type": "markdown",
   "id": "10519e7e",
   "metadata": {},
   "source": [
    "# 1) Ridge Regression"
   ]
  },
  {
   "cell_type": "code",
   "execution_count": null,
   "id": "12ecbf62",
   "metadata": {},
   "outputs": [],
   "source": [
    "cross_val_score(r,xbest_ss,y,cv=5).mean()"
   ]
  },
  {
   "cell_type": "markdown",
   "id": "d49ec943",
   "metadata": {},
   "source": [
    "# 2) Random Forest Regression"
   ]
  },
  {
   "cell_type": "code",
   "execution_count": null,
   "id": "80bf4797",
   "metadata": {},
   "outputs": [],
   "source": [
    "cross_val_score(rf,xbest_ss,y,cv=5).mean()"
   ]
  },
  {
   "cell_type": "markdown",
   "id": "115174f4",
   "metadata": {},
   "source": [
    "# 3) XGB Regression"
   ]
  },
  {
   "cell_type": "code",
   "execution_count": null,
   "id": "60530a23",
   "metadata": {},
   "outputs": [],
   "source": [
    "cross_val_score(xg,xbest_ss,y,cv=5).mean()"
   ]
  },
  {
   "cell_type": "markdown",
   "id": "0021329c",
   "metadata": {},
   "source": [
    "# 4) SV Regression"
   ]
  },
  {
   "cell_type": "code",
   "execution_count": null,
   "id": "02780fe2",
   "metadata": {},
   "outputs": [],
   "source": [
    "cross_val_score(SV,xbest_ss,y,cv=5).mean()"
   ]
  },
  {
   "cell_type": "markdown",
   "id": "813028b7",
   "metadata": {},
   "source": [
    "# Based on comparing Accuracy Score results with Cross Validation results, it is determined that XGB Regressor is the best model.\n",
    "\n",
    "# Step 26 Hyper Parameter Tuning\n",
    "\n",
    "# XGB Regressor"
   ]
  },
  {
   "cell_type": "code",
   "execution_count": null,
   "id": "6512a0c0",
   "metadata": {},
   "outputs": [],
   "source": [
    "parameter = {'booster':[\"gbtree\",\"gblinear\"],'eta': [0.01,0.1,0.2,0.3],'min_child_weight':np.arange(5),'max_depth':[10,20,40,60,80],'subsample':[0.5,1]}"
   ]
  },
  {
   "cell_type": "code",
   "execution_count": null,
   "id": "c933da9e",
   "metadata": {},
   "outputs": [],
   "source": [
    "GridCV = GridSearchCV(XGBRegressor(),parameter,cv=5,n_jobs = -1,verbose = 1)"
   ]
  },
  {
   "cell_type": "code",
   "execution_count": null,
   "id": "f3155f3c",
   "metadata": {},
   "outputs": [],
   "source": [
    "GridCV.fit(x_train,y_train)"
   ]
  },
  {
   "cell_type": "code",
   "execution_count": null,
   "id": "74a09626",
   "metadata": {},
   "outputs": [],
   "source": [
    "GridCV.best_params_"
   ]
  },
  {
   "cell_type": "code",
   "execution_count": null,
   "id": "725b4f22",
   "metadata": {},
   "outputs": [],
   "source": [
    "Best_mod = XGBRegressor(booster = 'gblinear',eta = 0.1, max_depth= 40, min_child_weight = 0,subsample = 0.5)\n",
    "Best_mod.fit(x_train,y_train)"
   ]
  },
  {
   "cell_type": "code",
   "execution_count": null,
   "id": "d5ad2732",
   "metadata": {},
   "outputs": [],
   "source": [
    "xgbpred = Best_mod.predict(x_test)\n",
    "\n",
    "acc = r2_score(y_test,xgbpred)\n",
    "print(acc*100)"
   ]
  },
  {
   "cell_type": "markdown",
   "id": "0b7607f0",
   "metadata": {},
   "source": [
    "XGB Regressor has an accuracy of 57.72%\n",
    "\n",
    "# Step 27 Saving The Model"
   ]
  },
  {
   "cell_type": "code",
   "execution_count": null,
   "id": "430f8892",
   "metadata": {},
   "outputs": [],
   "source": [
    "import joblib\n",
    "joblib.dump(Best_mod,\"BestModelBM.pkl\")"
   ]
  },
  {
   "cell_type": "markdown",
   "id": "cba6a131",
   "metadata": {},
   "source": [
    "# Step 28 Loading The Model"
   ]
  },
  {
   "cell_type": "code",
   "execution_count": null,
   "id": "4158342e",
   "metadata": {},
   "outputs": [],
   "source": [
    "mod=joblib.load(\"BestModelBM.pkl\")"
   ]
  },
  {
   "cell_type": "code",
   "execution_count": null,
   "id": "490aff81",
   "metadata": {},
   "outputs": [],
   "source": [
    "print(mod.predict(scaled_X_test)) #loading the test data"
   ]
  },
  {
   "cell_type": "code",
   "execution_count": null,
   "id": "9d87b8da",
   "metadata": {},
   "outputs": [],
   "source": []
  }
 ],
 "metadata": {
  "kernelspec": {
   "display_name": "Python 3",
   "language": "python",
   "name": "python3"
  },
  "language_info": {
   "codemirror_mode": {
    "name": "ipython",
    "version": 3
   },
   "file_extension": ".py",
   "mimetype": "text/x-python",
   "name": "python",
   "nbconvert_exporter": "python",
   "pygments_lexer": "ipython3",
   "version": "3.8.8"
  }
 },
 "nbformat": 4,
 "nbformat_minor": 5
}
